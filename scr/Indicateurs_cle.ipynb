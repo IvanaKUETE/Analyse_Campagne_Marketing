{
 "cells": [
  {
   "cell_type": "code",
   "execution_count": 1,
   "metadata": {},
   "outputs": [],
   "source": [
    "import pandas as pd  \n",
    "import numpy as np\n",
    "import matplotlib.pyplot as plt\n",
    "import seaborn as sns\n",
    "import fonction as fct"
   ]
  },
  {
   "cell_type": "code",
   "execution_count": 2,
   "metadata": {},
   "outputs": [
    {
     "data": {
      "text/plain": [
       "(10037, 12)"
      ]
     },
     "execution_count": 2,
     "metadata": {},
     "output_type": "execute_result"
    }
   ],
   "source": [
    "marketing_df= pd.read_csv('https://raw.githubusercontent.com/JosueAfouda/Marketing-Pandas/master/marketing.csv')\n",
    "marketing_df.shape\n"
   ]
  },
  {
   "cell_type": "code",
   "execution_count": 19,
   "metadata": {},
   "outputs": [],
   "source": [
    "#il s'agit ici  de comparer language_displayed à language_preferred\n",
    "marketing_df['is_correct_lang']= np.where(marketing_df['language_displayed']==marketing_df['language_preferred'], True,False)"
   ]
  },
  {
   "cell_type": "markdown",
   "metadata": {},
   "source": [
    "### Objectif\n",
    "\n",
    "Ici il est question de construire des indicateurs qui nous permettrons d'évaluer l'éfficacité ou l'impact de la campagne à l'instar de :\n",
    "\n",
    "-  Taux de conversion : évalué le changement d'habitude ou de produit après la campagne\n",
    "-  Taux de retention: pourcentage de personnes qui reste abonnées après une certaine période "
   ]
  },
  {
   "cell_type": "markdown",
   "metadata": {},
   "source": [
    "#### 1- Taux de conversion global"
   ]
  },
  {
   "cell_type": "code",
   "execution_count": 10,
   "metadata": {},
   "outputs": [
    {
     "name": "stdout",
     "output_type": "stream",
     "text": [
      " Le nombre d'utilisateurs uniques est:  7309\n",
      "\n",
      "\n",
      " Le nombre d'utilisateurs uniques est:  1015\n",
      "\n",
      "\n",
      " Le taux de conversion global est égal à :  13.89 %\n"
     ]
    }
   ],
   "source": [
    "### Taux de conversion global\n",
    "\n",
    "## Nombre d'utilisateur de notre base \n",
    "n_unique_user = marketing_df['user_id'].nunique()\n",
    "print(\" Le nombre d'utilisateurs uniques est: \",n_unique_user)\n",
    "\n",
    "## Nombre d'utilisateur ayant soucrit au service\n",
    "n_souscripteurs = marketing_df[marketing_df['converted']==True]['user_id'].nunique()\n",
    "print('\\n')\n",
    "print(\" Le nombre d'utilisateurs uniques est: \",n_souscripteurs)\n",
    "\n",
    "## Taux de conversion\n",
    "taux_conv_global= n_souscripteurs/n_unique_user\n",
    "print('\\n')\n",
    "print(\" Le taux de conversion global est égal à : \",\n",
    "                   round(taux_conv_global*100,2),'%')"
   ]
  },
  {
   "cell_type": "code",
   "execution_count": 24,
   "metadata": {},
   "outputs": [],
   "source": [
    "## Nombre d'utilisateur de notre base \n",
    "def conversion(df,columns_names):\n",
    "\n",
    "    col_user_total = df.groupby(columns_names)['user_id'].nunique()\n",
    "\n",
    "    col_convert = df[df['converted']==True].groupby(columns_names)['user_id'].nunique()\n",
    "    \n",
    "    conversion_rate = col_convert/col_user_total\n",
    "\n",
    "    # remplacemen des valeurs manquantes par 0\n",
    "    conversion_rate=conversion_rate.fillna(0)\n",
    "\n",
    "    print(\" Les taux de conversion suivant le\",columns_names,\" sont:\")\n",
    "    return conversion_rate"
   ]
  },
  {
   "cell_type": "code",
   "execution_count": 26,
   "metadata": {},
   "outputs": [
    {
     "name": "stdout",
     "output_type": "stream",
     "text": [
      " Les taux de conversion suivant le ['subscribing_channel']  sont:\n"
     ]
    },
    {
     "data": {
      "text/plain": [
       "subscribing_channel\n",
       "Email        0.838542\n",
       "Facebook     1.000000\n",
       "House Ads    1.000000\n",
       "Instagram    1.000000\n",
       "Push         1.000000\n",
       "Name: user_id, dtype: float64"
      ]
     },
     "execution_count": 26,
     "metadata": {},
     "output_type": "execute_result"
    }
   ],
   "source": [
    "conversion(marketing_df,['subscribing_channel'])"
   ]
  },
  {
   "cell_type": "code",
   "execution_count": 27,
   "metadata": {},
   "outputs": [
    {
     "name": "stdout",
     "output_type": "stream",
     "text": [
      " Les taux de conversion suivant le ['date_served', 'age_group']  sont:\n"
     ]
    },
    {
     "data": {
      "text/plain": [
       "date_served  age_group  \n",
       "1/1/18       0-18 years     0.155172\n",
       "             19-24 years    0.196721\n",
       "             24-30 years    0.105263\n",
       "             30-36 years    0.040816\n",
       "             36-45 years    0.042553\n",
       "                              ...   \n",
       "1/9/18       24-30 years    0.152174\n",
       "             30-36 years    0.090909\n",
       "             36-45 years    0.093023\n",
       "             45-55 years    0.068182\n",
       "             55+ years      0.102564\n",
       "Name: user_id, Length: 217, dtype: float64"
      ]
     },
     "execution_count": 27,
     "metadata": {},
     "output_type": "execute_result"
    }
   ],
   "source": [
    "conversion(marketing_df,['date_served','age_group'])"
   ]
  },
  {
   "cell_type": "markdown",
   "metadata": {},
   "source": [
    "#### 2- Taux de retention global"
   ]
  },
  {
   "cell_type": "code",
   "execution_count": 12,
   "metadata": {},
   "outputs": [
    {
     "name": "stdout",
     "output_type": "stream",
     "text": [
      "\n",
      "\n",
      " Le taux de retentionion global est égal à :  66.8 %\n"
     ]
    }
   ],
   "source": [
    "### Taux de retention global d'un mois\n",
    "\n",
    "## Nombre de personnes qui sont restées abonnés\n",
    "retained = marketing_df[marketing_df['is_retained']==True]['user_id'].nunique()\n",
    "\n",
    "\n",
    "## Taux de retention\n",
    "taux_retention_global= retained/n_souscripteurs\n",
    "print('\\n')\n",
    "print(\" Le taux de retentionion global est égal à : \",\n",
    "                   round(taux_retention_global*100,2),'%')"
   ]
  },
  {
   "cell_type": "code",
   "execution_count": 21,
   "metadata": {},
   "outputs": [],
   "source": [
    "### Taux de conversion global\n",
    "\n",
    "## Nombre d'utilisateur de notre base \n",
    "def retention(df,columns_names):\n",
    "\n",
    "    retained = df[df['is_retained']==True].groupby(columns_names)['user_id'].nunique()\n",
    "    convert = df[df['converted']==True].groupby(columns_names)['user_id'].nunique()\n",
    "    \n",
    "    retention_rate = retained/convert\n",
    "\n",
    "    print(\" Les taux de retention suivant le\",columns_names,\" sont:\")\n",
    "    return retention_rate\n",
    "\n",
    "    \n"
   ]
  },
  {
   "cell_type": "code",
   "execution_count": 22,
   "metadata": {},
   "outputs": [
    {
     "name": "stdout",
     "output_type": "stream",
     "text": [
      " Les taux de retention suivant le ['subscribing_channel']  sont:\n"
     ]
    },
    {
     "data": {
      "text/plain": [
       "subscribing_channel\n",
       "Email        0.875776\n",
       "Facebook     0.687783\n",
       "House Ads    0.580537\n",
       "Instagram    0.681034\n",
       "Push         0.701299\n",
       "Name: user_id, dtype: float64"
      ]
     },
     "execution_count": 22,
     "metadata": {},
     "output_type": "execute_result"
    }
   ],
   "source": [
    "### Taux de retention suivant le canal d'abonnement\n",
    "retention(marketing_df,['subscribing_channel'])"
   ]
  },
  {
   "cell_type": "code",
   "execution_count": 23,
   "metadata": {},
   "outputs": [
    {
     "name": "stdout",
     "output_type": "stream",
     "text": [
      " Les taux de retention suivant le ['language_displayed']  sont:\n",
      "language_displayed\n",
      "Arabic     0.750000\n",
      "English    0.668467\n",
      "German     0.773585\n",
      "Spanish    1.000000\n",
      "Name: user_id, dtype: float64\n"
     ]
    },
    {
     "data": {
      "image/png": "[encoded data removed]",
      "text/plain": [
       "<Figure size 1000x500 with 1 Axes>"
      ]
     },
     "metadata": {},
     "output_type": "display_data"
    }
   ],
   "source": [
    "### Taux de retention suivant la langue d'affichage\n",
    "\n",
    "retention_per_language=retention(marketing_df,['language_displayed'])\n",
    "print (retention_per_language)\n",
    "\n",
    "\n",
    "## Affichage \n",
    "plt.figure(figsize=(10, 5))\n",
    "retention_per_language.sort_values(ascending= False).plot(kind= 'bar')\n",
    "\n",
    "plt.title(\"Taux de rentention par langue d'affichage de l'annonce marketing \")\n",
    "plt.xlabel('Langue')\n",
    "plt.ylabel(\"Taux de conversion(%)\")\n",
    "plt.show()"
   ]
  }
 ],
 "metadata": {
  "kernelspec": {
   "display_name": "base",
   "language": "python",
   "name": "python3"
  },
  "language_info": {
   "codemirror_mode": {
    "name": "ipython",
    "version": 3
   },
   "file_extension": ".py",
   "mimetype": "text/x-python",
   "name": "python",
   "nbconvert_exporter": "python",
   "pygments_lexer": "ipython3",
   "version": "3.12.7"
  }
 },
 "nbformat": 4,
 "nbformat_minor": 2
}
